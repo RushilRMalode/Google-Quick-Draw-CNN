{
 "cells": [
  {
   "cell_type": "code",
   "execution_count": 5,
   "metadata": {},
   "outputs": [
    {
     "name": "stdout",
     "output_type": "stream",
     "text": [
      "c:\\Users\\Legion\\AppData\\Local\\Programs\\Python\\Python312\\python.exe\n",
      "Collecting pygame\n",
      "  Downloading pygame-2.6.1-cp312-cp312-win_amd64.whl.metadata (13 kB)\n",
      "Downloading pygame-2.6.1-cp312-cp312-win_amd64.whl (10.6 MB)\n",
      "   ---------------------------------------- 0.0/10.6 MB ? eta -:--:--\n",
      "   --- ------------------------------------ 1.0/10.6 MB 7.2 MB/s eta 0:00:02\n",
      "   ---------- ----------------------------- 2.9/10.6 MB 7.6 MB/s eta 0:00:02\n",
      "   --------------- ------------------------ 4.2/10.6 MB 7.0 MB/s eta 0:00:01\n",
      "   ----------------------- ---------------- 6.3/10.6 MB 7.7 MB/s eta 0:00:01\n",
      "   ------------------------------ --------- 8.1/10.6 MB 8.1 MB/s eta 0:00:01\n",
      "   -------------------------------------- - 10.2/10.6 MB 8.4 MB/s eta 0:00:01\n",
      "   ---------------------------------------- 10.6/10.6 MB 8.4 MB/s eta 0:00:00\n",
      "Installing collected packages: pygame\n",
      "Successfully installed pygame-2.6.1\n"
     ]
    },
    {
     "name": "stderr",
     "output_type": "stream",
     "text": [
      "\n",
      "[notice] A new release of pip is available: 25.1.1 -> 25.2\n",
      "[notice] To update, run: python.exe -m pip install --upgrade pip\n"
     ]
    }
   ],
   "source": [
    "import sys\n",
    "print(sys.executable)\n",
    "\n",
    "!{sys.executable} -m pip install pygame"
   ]
  },
  {
   "cell_type": "code",
   "execution_count": 6,
   "metadata": {},
   "outputs": [
    {
     "name": "stderr",
     "output_type": "stream",
     "text": [
      "c:\\Users\\Legion\\AppData\\Local\\Programs\\Python\\Python312\\Lib\\site-packages\\pygame\\pkgdata.py:25: UserWarning: pkg_resources is deprecated as an API. See https://setuptools.pypa.io/en/latest/pkg_resources.html. The pkg_resources package is slated for removal as early as 2025-11-30. Refrain from using this package or pin to Setuptools<81.\n",
      "  from pkg_resources import resource_stream, resource_exists\n"
     ]
    },
    {
     "name": "stdout",
     "output_type": "stream",
     "text": [
      "pygame 2.6.1 (SDL 2.28.4, Python 3.12.7)\n",
      "Hello from the pygame community. https://www.pygame.org/contribute.html\n"
     ]
    }
   ],
   "source": [
    "import torch \n",
    "import torch.nn as nn\n",
    "import pygame\n",
    "import os\n",
    "import random"
   ]
  },
  {
   "cell_type": "code",
   "execution_count": 7,
   "metadata": {},
   "outputs": [
    {
     "data": {
      "text/plain": [
       "device(type='cuda')"
      ]
     },
     "execution_count": 7,
     "metadata": {},
     "output_type": "execute_result"
    }
   ],
   "source": [
    "device=torch.device('cuda' if torch.cuda.is_available() else 'cpu') \n",
    "device"
   ]
  },
  {
   "cell_type": "code",
   "execution_count": 8,
   "metadata": {},
   "outputs": [],
   "source": [
    "import os\n",
    "import numpy as np\n",
    "# Specify the folder path containing the .npy files\n",
    "folder_path = \"Quick_Draw_Data\"\n",
    "\n",
    "# List the .npy files in the folder\n",
    "file_names = os.listdir(folder_path)\n",
    "file_paths = [file_name for file_name in file_names if file_name.endswith('.npy')]"
   ]
  },
  {
   "cell_type": "code",
   "execution_count": 9,
   "metadata": {},
   "outputs": [],
   "source": [
    "import os\n",
    "import numpy as np\n",
    "# Specify the folder path containing the .npy files\n",
    "folder_path = \"Quick_Draw_Data\"\n",
    "\n",
    "# List the .npy files in the folder\n",
    "file_names = os.listdir(folder_path)\n",
    "file_paths = [file_name for file_name in file_names if file_name.endswith('.npy')]\n",
    "\n",
    "# Load the .npy files and store them in a dictionary\n",
    "data_dict = {}\n",
    "samples=10000\n",
    "for i in range(40):\n",
    "    data = np.load(folder_path + \"/\" + file_paths[i])[:samples]\n",
    "    # label = np.empty((data.shape[0],1),dtype=object)\n",
    "    # astr = file_paths[i][18:-4]\n",
    "    label = np.empty((data.shape[0],1),dtype=float)\n",
    "    astr=i\n",
    "    for k in range(label.shape[0]):\n",
    "        for j in range(label.shape[1]):\n",
    "            label[k][j] = astr\n",
    "    data = np.hstack((data,label))\n",
    "    data_dict[i] = data\n"
   ]
  },
  {
   "cell_type": "code",
   "execution_count": 10,
   "metadata": {},
   "outputs": [
    {
     "name": "stdout",
     "output_type": "stream",
     "text": [
      "{0: 'airplane', 1: 'apple', 2: 'axe', 3: 'basketball', 4: 'bed', 5: 'bicycle', 6: 'bowtie', 7: 'bread', 8: 'bucket', 9: 'butterfly', 10: 'cactus', 11: 'cake', 12: 'candle', 13: 'carrot', 14: 'circle', 15: 'clock', 16: 'cloud', 17: 'crayon', 18: 'crown', 19: 'cup', 20: 'diamond', 21: 'donut', 22: 'ear', 23: 'envelope', 24: 'eye', 25: 'eyeglasses', 26: 'finger', 27: 'fish', 28: 'flower', 29: 'fork', 30: 'hammer', 31: 'hat', 32: 'headphones', 33: 'hockey stick', 34: 'ice cream', 35: 'key', 36: 'leaf', 37: 'moon', 38: 'mountain', 39: 'mushroom'}\n"
     ]
    }
   ],
   "source": [
    "look_up_table={}\n",
    "for i in range(40):\n",
    "    look_up_table[i] = file_paths[i][18:-4]\n",
    "print(look_up_table)"
   ]
  },
  {
   "cell_type": "code",
   "execution_count": 11,
   "metadata": {},
   "outputs": [
    {
     "data": {
      "image/png": "[encoded data removed]",
      "text/plain": [
       "<Figure size 640x480 with 1 Axes>"
      ]
     },
     "metadata": {},
     "output_type": "display_data"
    }
   ],
   "source": [
    "import matplotlib.pyplot as plt\n",
    "\n",
    "# Specify the index of the sample you want to plot\n",
    "sample_index = 0\n",
    "\n",
    "# Access the sample from the data dictionary\n",
    "sample = data_dict[0][100, :-1].astype(float)  # Exclude the label from the sample\n",
    "\n",
    "# Reshape the sample to the image dimensions (assuming it's a 28x28 image)\n",
    "image = sample.reshape((28, 28))\n",
    "\n",
    "# Plot the image\n",
    "plt.imshow(image, cmap='gray')\n",
    "plt.axis('off')\n",
    "plt.show()\n",
    "\n"
   ]
  },
  {
   "cell_type": "code",
   "execution_count": 12,
   "metadata": {},
   "outputs": [
    {
     "name": "stdout",
     "output_type": "stream",
     "text": [
      "Train set size: 320000\n",
      "Test set size: 80000\n"
     ]
    }
   ],
   "source": [
    "train = []\n",
    "test = []\n",
    "\n",
    "for key, value in data_dict.items():\n",
    "    # print(value[0])\n",
    "    train.extend(value[:8000])  # First 8000 samples for training\n",
    "    test.extend(value[8000:10000])  # Remaining 2000 samples for testing\n",
    "print(\"Train set size:\", len(train))\n",
    "print(\"Test set size:\", len(test))"
   ]
  },
  {
   "cell_type": "code",
   "execution_count": 13,
   "metadata": {},
   "outputs": [],
   "source": [
    "num_classes = 40\n",
    "learning_rate = 0.01\n",
    "num_epochs = 50\n",
    "batch_size= 500"
   ]
  },
  {
   "cell_type": "code",
   "execution_count": 14,
   "metadata": {},
   "outputs": [],
   "source": [
    "train_loader = torch.utils.data.DataLoader(train, batch_size=batch_size,shuffle=True)\n",
    "test_loader= torch.utils.data.DataLoader(test, batch_size=batch_size, shuffle=True)"
   ]
  },
  {
   "cell_type": "code",
   "execution_count": 23,
   "metadata": {},
   "outputs": [],
   "source": [
    "import torch.nn.functional as F\n",
    "\n",
    "class Net(nn.Module):\n",
    "    def __init__(self):\n",
    "        super(Net, self).__init__()\n",
    "        self.conv1 = nn.Conv2d(in_channels=1, out_channels=6, kernel_size=3,padding=1)\n",
    "        self.conv2 = nn.Conv2d(in_channels=6, out_channels=16, kernel_size=3,padding=1)\n",
    "        self.fc1 = nn.Linear(16 * 7 * 7, 120)  \n",
    "        self.fc2 = nn.Linear(120, 84)\n",
    "        self.fc3 = nn.Linear(84, 40)\n",
    "\n",
    "    def forward(self, x):\n",
    "        x = F.relu(self.conv1(x))\n",
    "        x = F.max_pool2d(x, 2)\n",
    "        x = F.relu(self.conv2(x))\n",
    "        x = F.max_pool2d(x, 2)\n",
    "        x = torch.flatten(x, 1)\n",
    "        x = F.relu(self.fc1(x))  \n",
    "        x = F.relu(self.fc2(x))\n",
    "        x = self.fc3(x)\n",
    "        return x\n",
    "\n",
    "net = Net()\n",
    "# net.to(device)"
   ]
  },
  {
   "cell_type": "code",
   "execution_count": 16,
   "metadata": {},
   "outputs": [],
   "source": [
    "import torch.optim as optim\n",
    "\n",
    "criterion = nn.CrossEntropyLoss()\n",
    "\n",
    "optimizer = optim.Adam(net.parameters(), lr=0.001)"
   ]
  },
  {
   "cell_type": "code",
   "execution_count": 21,
   "metadata": {},
   "outputs": [
    {
     "name": "stdout",
     "output_type": "stream",
     "text": [
      "Epoch [1/50], Loss: 4.806\n",
      "Epoch [2/50], Loss: 4.806\n",
      "Epoch [3/50], Loss: 4.806\n",
      "Epoch [4/50], Loss: 4.806\n",
      "Epoch [5/50], Loss: 4.806\n",
      "Epoch [6/50], Loss: 4.806\n"
     ]
    },
    {
     "ename": "KeyboardInterrupt",
     "evalue": "",
     "output_type": "error",
     "traceback": [
      "\u001b[1;31m---------------------------------------------------------------------------\u001b[0m",
      "\u001b[1;31mKeyboardInterrupt\u001b[0m                         Traceback (most recent call last)",
      "Cell \u001b[1;32mIn[21], line 18\u001b[0m\n\u001b[0;32m     16\u001b[0m \u001b[38;5;66;03m# print(outputs)\u001b[39;00m\n\u001b[0;32m     17\u001b[0m loss \u001b[38;5;241m=\u001b[39m criterion(outputs, labels\u001b[38;5;241m.\u001b[39mlong())\n\u001b[1;32m---> 18\u001b[0m \u001b[43mloss\u001b[49m\u001b[38;5;241;43m.\u001b[39;49m\u001b[43mbackward\u001b[49m\u001b[43m(\u001b[49m\u001b[43m)\u001b[49m\n\u001b[0;32m     19\u001b[0m optimizer\u001b[38;5;241m.\u001b[39mstep()\n\u001b[0;32m     21\u001b[0m \u001b[38;5;66;03m# print statistics\u001b[39;00m\n",
      "File \u001b[1;32mc:\\Users\\Legion\\AppData\\Local\\Programs\\Python\\Python312\\Lib\\site-packages\\torch\\_tensor.py:581\u001b[0m, in \u001b[0;36mTensor.backward\u001b[1;34m(self, gradient, retain_graph, create_graph, inputs)\u001b[0m\n\u001b[0;32m    571\u001b[0m \u001b[38;5;28;01mif\u001b[39;00m has_torch_function_unary(\u001b[38;5;28mself\u001b[39m):\n\u001b[0;32m    572\u001b[0m     \u001b[38;5;28;01mreturn\u001b[39;00m handle_torch_function(\n\u001b[0;32m    573\u001b[0m         Tensor\u001b[38;5;241m.\u001b[39mbackward,\n\u001b[0;32m    574\u001b[0m         (\u001b[38;5;28mself\u001b[39m,),\n\u001b[1;32m   (...)\u001b[0m\n\u001b[0;32m    579\u001b[0m         inputs\u001b[38;5;241m=\u001b[39minputs,\n\u001b[0;32m    580\u001b[0m     )\n\u001b[1;32m--> 581\u001b[0m \u001b[43mtorch\u001b[49m\u001b[38;5;241;43m.\u001b[39;49m\u001b[43mautograd\u001b[49m\u001b[38;5;241;43m.\u001b[39;49m\u001b[43mbackward\u001b[49m\u001b[43m(\u001b[49m\n\u001b[0;32m    582\u001b[0m \u001b[43m    \u001b[49m\u001b[38;5;28;43mself\u001b[39;49m\u001b[43m,\u001b[49m\u001b[43m \u001b[49m\u001b[43mgradient\u001b[49m\u001b[43m,\u001b[49m\u001b[43m \u001b[49m\u001b[43mretain_graph\u001b[49m\u001b[43m,\u001b[49m\u001b[43m \u001b[49m\u001b[43mcreate_graph\u001b[49m\u001b[43m,\u001b[49m\u001b[43m \u001b[49m\u001b[43minputs\u001b[49m\u001b[38;5;241;43m=\u001b[39;49m\u001b[43minputs\u001b[49m\n\u001b[0;32m    583\u001b[0m \u001b[43m\u001b[49m\u001b[43m)\u001b[49m\n",
      "File \u001b[1;32mc:\\Users\\Legion\\AppData\\Local\\Programs\\Python\\Python312\\Lib\\site-packages\\torch\\autograd\\__init__.py:347\u001b[0m, in \u001b[0;36mbackward\u001b[1;34m(tensors, grad_tensors, retain_graph, create_graph, grad_variables, inputs)\u001b[0m\n\u001b[0;32m    342\u001b[0m     retain_graph \u001b[38;5;241m=\u001b[39m create_graph\n\u001b[0;32m    344\u001b[0m \u001b[38;5;66;03m# The reason we repeat the same comment below is that\u001b[39;00m\n\u001b[0;32m    345\u001b[0m \u001b[38;5;66;03m# some Python versions print out the first line of a multi-line function\u001b[39;00m\n\u001b[0;32m    346\u001b[0m \u001b[38;5;66;03m# calls in the traceback and some print out the last line\u001b[39;00m\n\u001b[1;32m--> 347\u001b[0m \u001b[43m_engine_run_backward\u001b[49m\u001b[43m(\u001b[49m\n\u001b[0;32m    348\u001b[0m \u001b[43m    \u001b[49m\u001b[43mtensors\u001b[49m\u001b[43m,\u001b[49m\n\u001b[0;32m    349\u001b[0m \u001b[43m    \u001b[49m\u001b[43mgrad_tensors_\u001b[49m\u001b[43m,\u001b[49m\n\u001b[0;32m    350\u001b[0m \u001b[43m    \u001b[49m\u001b[43mretain_graph\u001b[49m\u001b[43m,\u001b[49m\n\u001b[0;32m    351\u001b[0m \u001b[43m    \u001b[49m\u001b[43mcreate_graph\u001b[49m\u001b[43m,\u001b[49m\n\u001b[0;32m    352\u001b[0m \u001b[43m    \u001b[49m\u001b[43minputs\u001b[49m\u001b[43m,\u001b[49m\n\u001b[0;32m    353\u001b[0m \u001b[43m    \u001b[49m\u001b[43mallow_unreachable\u001b[49m\u001b[38;5;241;43m=\u001b[39;49m\u001b[38;5;28;43;01mTrue\u001b[39;49;00m\u001b[43m,\u001b[49m\n\u001b[0;32m    354\u001b[0m \u001b[43m    \u001b[49m\u001b[43maccumulate_grad\u001b[49m\u001b[38;5;241;43m=\u001b[39;49m\u001b[38;5;28;43;01mTrue\u001b[39;49;00m\u001b[43m,\u001b[49m\n\u001b[0;32m    355\u001b[0m \u001b[43m\u001b[49m\u001b[43m)\u001b[49m\n",
      "File \u001b[1;32mc:\\Users\\Legion\\AppData\\Local\\Programs\\Python\\Python312\\Lib\\site-packages\\torch\\autograd\\graph.py:825\u001b[0m, in \u001b[0;36m_engine_run_backward\u001b[1;34m(t_outputs, *args, **kwargs)\u001b[0m\n\u001b[0;32m    823\u001b[0m     unregister_hooks \u001b[38;5;241m=\u001b[39m _register_logging_hooks_on_whole_graph(t_outputs)\n\u001b[0;32m    824\u001b[0m \u001b[38;5;28;01mtry\u001b[39;00m:\n\u001b[1;32m--> 825\u001b[0m     \u001b[38;5;28;01mreturn\u001b[39;00m \u001b[43mVariable\u001b[49m\u001b[38;5;241;43m.\u001b[39;49m\u001b[43m_execution_engine\u001b[49m\u001b[38;5;241;43m.\u001b[39;49m\u001b[43mrun_backward\u001b[49m\u001b[43m(\u001b[49m\u001b[43m  \u001b[49m\u001b[38;5;66;43;03m# Calls into the C++ engine to run the backward pass\u001b[39;49;00m\n\u001b[0;32m    826\u001b[0m \u001b[43m        \u001b[49m\u001b[43mt_outputs\u001b[49m\u001b[43m,\u001b[49m\u001b[43m \u001b[49m\u001b[38;5;241;43m*\u001b[39;49m\u001b[43margs\u001b[49m\u001b[43m,\u001b[49m\u001b[43m \u001b[49m\u001b[38;5;241;43m*\u001b[39;49m\u001b[38;5;241;43m*\u001b[39;49m\u001b[43mkwargs\u001b[49m\n\u001b[0;32m    827\u001b[0m \u001b[43m    \u001b[49m\u001b[43m)\u001b[49m  \u001b[38;5;66;03m# Calls into the C++ engine to run the backward pass\u001b[39;00m\n\u001b[0;32m    828\u001b[0m \u001b[38;5;28;01mfinally\u001b[39;00m:\n\u001b[0;32m    829\u001b[0m     \u001b[38;5;28;01mif\u001b[39;00m attach_logging_hooks:\n",
      "\u001b[1;31mKeyboardInterrupt\u001b[0m: "
     ]
    }
   ],
   "source": [
    "outputs = torch.tensor([])\n",
    "for epoch in range(num_epochs):  # loop over the dataset multiple times\n",
    "    net.train()\n",
    "    running_loss = 0.0\n",
    "    for i, data in enumerate(train_loader, 0):\n",
    "        # get the inputs; data is a list of [inputs, labels]\n",
    "        inputs= data[:,:784].float()\n",
    "        inputs = inputs.view(-1, 1, 28, 28)  # Reshape the input tensor\n",
    "        # inputs=inputs.to(device)\n",
    "        labels=data[:,784]\n",
    "        # zero the parameter gradients\n",
    "        optimizer.zero_grad()\n",
    "\n",
    "        # forward + backward + optimize\n",
    "        outputs = net(inputs)\n",
    "        # print(outputs)\n",
    "        loss = criterion(outputs, labels.long())\n",
    "        loss.backward()\n",
    "        optimizer.step()\n",
    "\n",
    "        # print statistics\n",
    "        running_loss += loss.item()\n",
    "    # print statistics at the end of each epoch\n",
    "    print(f'Epoch [{epoch + 1}/{num_epochs}], Loss: {running_loss / len(train_loader):.3f}')\n",
    "\n",
    "print('Finished Training')"
   ]
  },
  {
   "cell_type": "code",
   "execution_count": 19,
   "metadata": {},
   "outputs": [],
   "source": [
    "PATH = './quick_draw_cnn.pth'\n",
    "torch.save(net.state_dict(), PATH)"
   ]
  },
  {
   "cell_type": "code",
   "execution_count": 20,
   "metadata": {},
   "outputs": [
    {
     "name": "stdout",
     "output_type": "stream",
     "text": [
      "Accuracy of the network on the 80000 test images: 85.4925 %\n"
     ]
    }
   ],
   "source": [
    "correct = 0\n",
    "total = 0\n",
    "# since we're not training, we don't need to calculate the gradients for our outputs\n",
    "with torch.no_grad():\n",
    "    net.eval()\n",
    "    for data in test_loader:\n",
    "        inputs= data[:,:784].float()\n",
    "        inputs = inputs.view(-1, 1, 28, 28)  # Reshape the input tensor\n",
    "        # inputs=inputs.to(device)\n",
    "        labels=data[:,784]\n",
    "        # calculate outputs by running images through the network\n",
    "        outputs = net(inputs)\n",
    "        # the class with the highest energy is what we choose as prediction\n",
    "        _, predicted = torch.max(outputs.data, 1)\n",
    "        total += labels.size(0)\n",
    "        correct += (predicted == labels).sum().item()\n",
    "\n",
    "print(f'Accuracy of the network on the {len(test)} test images: {100 * correct / total} %')\n"
   ]
  },
  {
   "cell_type": "code",
   "execution_count": 21,
   "metadata": {},
   "outputs": [
    {
     "name": "stdout",
     "output_type": "stream",
     "text": [
      "Accuracy for class: airplane is 88.5 %\n",
      "Accuracy for class: apple is 92.8 %\n",
      "Accuracy for class: axe   is 76.5 %\n",
      "Accuracy for class: basketball is 82.8 %\n",
      "Accuracy for class: bed   is 86.8 %\n",
      "Accuracy for class: bicycle is 92.6 %\n",
      "Accuracy for class: bowtie is 85.8 %\n",
      "Accuracy for class: bread is 72.7 %\n",
      "Accuracy for class: bucket is 88.0 %\n",
      "Accuracy for class: butterfly is 88.4 %\n",
      "Accuracy for class: cactus is 84.5 %\n",
      "Accuracy for class: cake  is 88.8 %\n",
      "Accuracy for class: candle is 86.0 %\n",
      "Accuracy for class: carrot is 85.4 %\n",
      "Accuracy for class: circle is 90.0 %\n",
      "Accuracy for class: clock is 92.3 %\n",
      "Accuracy for class: cloud is 83.5 %\n",
      "Accuracy for class: crayon is 76.7 %\n",
      "Accuracy for class: crown is 89.8 %\n",
      "Accuracy for class: cup   is 82.1 %\n",
      "Accuracy for class: diamond is 84.8 %\n",
      "Accuracy for class: donut is 91.8 %\n",
      "Accuracy for class: ear   is 81.7 %\n",
      "Accuracy for class: envelope is 95.0 %\n",
      "Accuracy for class: eye   is 89.4 %\n",
      "Accuracy for class: eyeglasses is 86.2 %\n",
      "Accuracy for class: finger is 77.6 %\n",
      "Accuracy for class: fish  is 88.0 %\n",
      "Accuracy for class: flower is 87.4 %\n",
      "Accuracy for class: fork  is 81.1 %\n",
      "Accuracy for class: hammer is 80.1 %\n",
      "Accuracy for class: hat   is 84.4 %\n",
      "Accuracy for class: headphones is 91.8 %\n",
      "Accuracy for class: hockey stick is 91.2 %\n",
      "Accuracy for class: ice cream is 87.8 %\n",
      "Accuracy for class: key   is 79.2 %\n",
      "Accuracy for class: leaf  is 79.7 %\n",
      "Accuracy for class: moon  is 67.7 %\n",
      "Accuracy for class: mountain is 90.0 %\n",
      "Accuracy for class: mushroom is 91.2 %\n"
     ]
    }
   ],
   "source": [
    "# prepare to count predictions for each class\n",
    "correct_pred = {classname: 0 for classname in look_up_table.values()}\n",
    "total_pred = {classname: 0 for classname in look_up_table.values()}\n",
    "\n",
    "# again no gradients needed\n",
    "with torch.no_grad():\n",
    "    for data in test_loader:\n",
    "        inputs= data[:,:784].float()\n",
    "        inputs = inputs.view(-1, 1, 28, 28)  # Reshape the input tensor\n",
    "        # inputs=inputs.to(device)\n",
    "        labels=data[:,784]    \n",
    "        outputs = net(inputs)   \n",
    "        _, predictions = torch.max(outputs, 1)\n",
    "        # collect the correct predictions for each class\n",
    "        for label, prediction in zip(labels, predictions):\n",
    "            # if label.item() == 0:\n",
    "                # print(\"predicted: \", prediction.item())\n",
    "            if label == prediction:\n",
    "                correct_pred[look_up_table[label.item()]] += 1\n",
    "            total_pred[look_up_table[label.item()]] += 1\n",
    "\n",
    "# print accuracy for each class\n",
    "for classname, correct_count in correct_pred.items():\n",
    "    total_count = total_pred[classname]\n",
    "    if total_count == 0:\n",
    "        accuracy = 0.0  # If no instances of this class in test dataset, set accuracy to 0\n",
    "    else:\n",
    "        accuracy = 100 * float(correct_count) / total_count\n",
    "    print(f'Accuracy for class: {classname:5s} is {accuracy:.1f} %')\n"
   ]
  },
  {
   "cell_type": "code",
   "execution_count": 24,
   "metadata": {},
   "outputs": [
    {
     "name": "stderr",
     "output_type": "stream",
     "text": [
      "C:\\Users\\Legion\\AppData\\Local\\Temp\\ipykernel_10880\\3194795397.py:2: FutureWarning: You are using `torch.load` with `weights_only=False` (the current default value), which uses the default pickle module implicitly. It is possible to construct malicious pickle data which will execute arbitrary code during unpickling (See https://github.com/pytorch/pytorch/blob/main/SECURITY.md#untrusted-models for more details). In a future release, the default value for `weights_only` will be flipped to `True`. This limits the functions that could be executed during unpickling. Arbitrary objects will no longer be allowed to be loaded via this mode unless they are explicitly allowlisted by the user via `torch.serialization.add_safe_globals`. We recommend you start setting `weights_only=True` for any use case where you don't have full control of the loaded file. Please open an issue on GitHub for any issues related to this experimental feature.\n",
      "  net.load_state_dict(torch.load('./quick_draw_cnn.pth'))\n"
     ]
    },
    {
     "data": {
      "text/plain": [
       "<All keys matched successfully>"
      ]
     },
     "execution_count": 24,
     "metadata": {},
     "output_type": "execute_result"
    }
   ],
   "source": [
    "net = Net()\n",
    "net.load_state_dict(torch.load('./quick_draw_cnn.pth'))"
   ]
  },
  {
   "cell_type": "code",
   "execution_count": 28,
   "metadata": {},
   "outputs": [
    {
     "name": "stdout",
     "output_type": "stream",
     "text": [
      "Image saved at: c:\\Users\\Legion\\Desktop\\IIT_Bombay\\Academics\\Projects\\Skribble_Buddy\\drawn_image.jpg\n"
     ]
    }
   ],
   "source": [
    "# Initialize PyGame\n",
    "pygame.init()\n",
    "\n",
    "# Set up the drawing window\n",
    "canvas_width, canvas_height = 600, 600\n",
    "canvas = pygame.display.set_mode((canvas_width, canvas_height))\n",
    "\n",
    "random_number = random.randint(0, 39)\n",
    "\n",
    "pygame.display.set_caption(f\"Draw {look_up_table[random_number]} | Press ctrl+c to clear canvas & close to save\")\n",
    "\n",
    "# Colors\n",
    "BLACK = (0, 0, 0)\n",
    "WHITE = (255, 255, 255)\n",
    "\n",
    "# Function to clear the canvas\n",
    "def clear_canvas():\n",
    "    canvas.fill(WHITE)\n",
    "    pygame.display.flip()  # Update the display to show the cleared canvas\n",
    "\n",
    "# Game loop\n",
    "drawing = False\n",
    "last_pos = (0, 0)\n",
    "canvas.fill(WHITE)\n",
    "\n",
    "running = True\n",
    "while running:\n",
    "    for event in pygame.event.get():\n",
    "        if event.type == pygame.QUIT:\n",
    "            running = False\n",
    "\n",
    "        elif event.type == pygame.MOUSEBUTTONDOWN:\n",
    "            drawing = True\n",
    "            last_pos = event.pos\n",
    "\n",
    "        elif event.type == pygame.MOUSEBUTTONUP:\n",
    "            drawing = False\n",
    "\n",
    "        elif event.type == pygame.MOUSEMOTION:\n",
    "            if drawing:\n",
    "                mouse_pos = event.pos\n",
    "                pygame.draw.line(canvas, BLACK, last_pos, mouse_pos, 5)  # Draw line\n",
    "                last_pos = mouse_pos\n",
    "\n",
    "        elif event.type == pygame.KEYDOWN:\n",
    "            if event.key == pygame.K_c and pygame.key.get_mods() & pygame.KMOD_CTRL:\n",
    "                clear_canvas()\n",
    "\n",
    "    pygame.display.flip()\n",
    "\n",
    "# Save the canvas as an image\n",
    "image_path = \"drawn_image.jpg\"\n",
    "pygame.image.save(canvas, image_path)\n",
    "\n",
    "# Clean up\n",
    "pygame.quit()\n",
    "\n",
    "print(f\"Image saved at: {os.path.abspath(image_path)}\")\n"
   ]
  },
  {
   "cell_type": "code",
   "execution_count": 29,
   "metadata": {},
   "outputs": [
    {
     "data": {
      "image/png": "[encoded data removed]",
      "text/plain": [
       "<Figure size 640x480 with 1 Axes>"
      ]
     },
     "metadata": {},
     "output_type": "display_data"
    }
   ],
   "source": [
    "from PIL import Image\n",
    "from skimage.transform import resize\n",
    "import numpy as np\n",
    "\n",
    "# Load the image\n",
    "image = Image.open(image_path)\n",
    "#Convert to grayscale\n",
    "gray_image = image.convert('L')\n",
    "# print(np.min(gray_image))\n",
    "\n",
    "# Resize the image to 28x28 using skimage\n",
    "resized_image = resize(np.array(gray_image), (28, 28), anti_aliasing=True)\n",
    "\n",
    "# Convert the image to a numpy array and normalize pixel values\n",
    "\n",
    "bitmap = (np.ones(resized_image.shape)-np.array(resized_image))\n",
    "max_val = np.max(bitmap)\n",
    "if max_val != 0:\n",
    "    bitmap = bitmap*255/max_val\n",
    "\n",
    "import matplotlib.pyplot as plt\n",
    "\n",
    "# Plot the numpy array as an image\n",
    "\n",
    "plt.imshow(bitmap, cmap='gray')  # cmap='gray' for grayscale images\n",
    "\n",
    "plt.axis('off')  # Turn off axis\n",
    "plt.show()"
   ]
  },
  {
   "cell_type": "code",
   "execution_count": 30,
   "metadata": {},
   "outputs": [
    {
     "name": "stdout",
     "output_type": "stream",
     "text": [
      "Predicted:  ear\n"
     ]
    }
   ],
   "source": [
    "bitmap_tensor = torch.Tensor(bitmap).float()  # Convert to float tensor\n",
    "bitmap_input = bitmap_tensor.view(-1, 1, 28, 28)   # Flatten to 1D tensor\n",
    "\n",
    "# Pass the tensor to the network\n",
    "outputs = net(bitmap_input)\n",
    "_, predicted = torch.max(outputs, 1)\n",
    "\n",
    "print('Predicted: ', look_up_table[predicted.item()])\n"
   ]
  },
  {
   "cell_type": "code",
   "execution_count": 34,
   "metadata": {},
   "outputs": [],
   "source": [
    "import pygame\n",
    "import torch\n",
    "import numpy as np\n",
    "from PIL import Image\n",
    "from skimage.transform import resize\n",
    "import random\n",
    "\n",
    "pygame.init()\n",
    "\n",
    "# Set up the drawing window\n",
    "canvas_width, canvas_height = 600, 600\n",
    "canvas = pygame.display.set_mode((canvas_width, canvas_height))\n",
    "\n",
    "random_number = random.randint(0, 39)\n",
    "pygame.display.set_caption(f\"Draw {look_up_table[random_number]} | Press Ctrl+C to clear\")\n",
    "\n",
    "BLACK = (0, 0, 0)\n",
    "WHITE = (255, 255, 255)\n",
    "\n",
    "def clear_canvas():\n",
    "    canvas.fill(WHITE)\n",
    "    pygame.display.flip()\n",
    "\n",
    "canvas.fill(WHITE)\n",
    "drawing = False\n",
    "last_pos = (0, 0)\n",
    "running = True\n",
    "\n",
    "font = pygame.font.SysFont(\"Arial\", 28)\n",
    "\n",
    "while running:\n",
    "    for event in pygame.event.get():\n",
    "        if event.type == pygame.QUIT:\n",
    "            running = False\n",
    "        elif event.type == pygame.MOUSEBUTTONDOWN:\n",
    "            drawing = True\n",
    "            last_pos = event.pos\n",
    "        elif event.type == pygame.MOUSEBUTTONUP:\n",
    "            drawing = False\n",
    "        elif event.type == pygame.MOUSEMOTION:\n",
    "            if drawing:\n",
    "                mouse_pos = event.pos\n",
    "                pygame.draw.line(canvas, BLACK, last_pos, mouse_pos, 5)\n",
    "                last_pos = mouse_pos\n",
    "        elif event.type == pygame.KEYDOWN:\n",
    "            if event.key == pygame.K_c and pygame.key.get_mods() & pygame.KMOD_CTRL:\n",
    "                clear_canvas()\n",
    "\n",
    "    # ===== Real-time prediction section =====\n",
    "    # Get current canvas pixels\n",
    "    canvas_str = pygame.image.tostring(canvas, \"RGB\")\n",
    "    img_pil = Image.frombytes(\"RGB\", (canvas_width, canvas_height), canvas_str)\n",
    "    gray_image = img_pil.convert(\"L\")\n",
    "    \n",
    "    # Resize to 28x28 for the model\n",
    "    resized_image = resize(np.array(gray_image), (28, 28), anti_aliasing=True)\n",
    "    bitmap = (np.ones(resized_image.shape) - np.array(resized_image))\n",
    "    max_val = np.max(bitmap)\n",
    "    if max_val != 0:\n",
    "        bitmap = bitmap * 255 / max_val\n",
    "    \n",
    "    # Convert to tensor and predict\n",
    "    bitmap_tensor = torch.Tensor(bitmap).unsqueeze(0).unsqueeze(0)  # [1, 1, 28, 28]\n",
    "    with torch.no_grad():\n",
    "        outputs = net(bitmap_tensor.float())\n",
    "        _, predicted = torch.max(outputs, 1)\n",
    "    prediction_text = look_up_table[predicted.item()]\n",
    "    \n",
    "    # ===== Clear top bar and display prediction =====\n",
    "    pygame.draw.rect(canvas, WHITE, (0, 0, canvas_width, 40))  # Clear area for text\n",
    "    text_surface = font.render(f\"Prediction: {prediction_text}\", True, (255, 0, 0))\n",
    "    canvas.blit(text_surface, (10, 10))\n",
    "    \n",
    "    pygame.display.flip()\n",
    "\n",
    "pygame.quit()\n"
   ]
  },
  {
   "cell_type": "code",
   "execution_count": null,
   "metadata": {},
   "outputs": [],
   "source": []
  }
 ],
 "metadata": {
  "kernelspec": {
   "display_name": "Python 3",
   "language": "python",
   "name": "python3"
  },
  "language_info": {
   "codemirror_mode": {
    "name": "ipython",
    "version": 3
   },
   "file_extension": ".py",
   "mimetype": "text/x-python",
   "name": "python",
   "nbconvert_exporter": "python",
   "pygments_lexer": "ipython3",
   "version": "3.12.7"
  }
 },
 "nbformat": 4,
 "nbformat_minor": 2
}
