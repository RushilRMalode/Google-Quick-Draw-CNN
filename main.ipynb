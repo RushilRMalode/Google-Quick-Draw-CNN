{
 "cells": [
  {
   "cell_type": "code",
   "execution_count": 1,
   "metadata": {},
   "outputs": [
    {
     "name": "stdout",
     "output_type": "stream",
     "text": [
      "pygame 2.5.2 (SDL 2.28.2, Python 3.10.12)\n",
      "Hello from the pygame community. https://www.pygame.org/contribute.html\n"
     ]
    }
   ],
   "source": [
    "import torch \n",
    "import torch.nn as nn\n",
    "import pygame\n",
    "import os\n",
    "import random"
   ]
  },
  {
   "cell_type": "code",
   "execution_count": 9,
   "metadata": {},
   "outputs": [
    {
     "data": {
      "text/plain": [
       "device(type='cuda')"
      ]
     },
     "execution_count": 9,
     "metadata": {},
     "output_type": "execute_result"
    }
   ],
   "source": [
    "device=torch.device('cuda' if torch.cuda.is_available() else 'cpu') \n",
    "device"
   ]
  },
  {
   "cell_type": "code",
   "execution_count": 2,
   "metadata": {},
   "outputs": [],
   "source": [
    "import os\n",
    "import numpy as np\n",
    "# Specify the folder path containing the .npy files\n",
    "folder_path = \"Quick_Draw_Data\"\n",
    "\n",
    "# List the .npy files in the folder\n",
    "file_names = os.listdir(folder_path)\n",
    "file_paths = [file_name for file_name in file_names if file_name.endswith('.npy')]\n"
   ]
  },
  {
   "cell_type": "code",
   "execution_count": 10,
   "metadata": {},
   "outputs": [],
   "source": [
    "import os\n",
    "import numpy as np\n",
    "# Specify the folder path containing the .npy files\n",
    "folder_path = \"Quick_Draw_Data\"\n",
    "\n",
    "# List the .npy files in the folder\n",
    "file_names = os.listdir(folder_path)\n",
    "file_paths = [file_name for file_name in file_names if file_name.endswith('.npy')]\n",
    "\n",
    "# Load the .npy files and store them in a dictionary\n",
    "data_dict = {}\n",
    "samples=10000\n",
    "for i in range(40):\n",
    "    data = np.load(folder_path + \"/\" + file_paths[i])[:samples]\n",
    "    # label = np.empty((data.shape[0],1),dtype=object)\n",
    "    # astr = file_paths[i][18:-4]\n",
    "    label = np.empty((data.shape[0],1),dtype=float)\n",
    "    astr=i\n",
    "    for k in range(label.shape[0]):\n",
    "        for j in range(label.shape[1]):\n",
    "            label[k][j] = astr\n",
    "    data = np.hstack((data,label))\n",
    "    data_dict[i] = data\n"
   ]
  },
  {
   "cell_type": "code",
   "execution_count": 3,
   "metadata": {},
   "outputs": [
    {
     "name": "stdout",
     "output_type": "stream",
     "text": [
      "{0: 'airplane', 1: 'apple', 2: 'axe', 3: 'basketball', 4: 'bed', 5: 'bicycle', 6: 'bowtie', 7: 'bread', 8: 'bucket', 9: 'butterfly', 10: 'cactus', 11: 'cake', 12: 'candle', 13: 'carrot', 14: 'circle', 15: 'clock', 16: 'cloud', 17: 'crayon', 18: 'crown', 19: 'cup', 20: 'diamond', 21: 'donut', 22: 'ear', 23: 'envelope', 24: 'eye', 25: 'eyeglasses', 26: 'finger', 27: 'fish', 28: 'flower', 29: 'fork', 30: 'hammer', 31: 'hat', 32: 'headphones', 33: 'hockey stick', 34: 'ice cream', 35: 'key', 36: 'leaf', 37: 'moon', 38: 'mountain', 39: 'mushroom'}\n"
     ]
    }
   ],
   "source": [
    "look_up_table={}\n",
    "for i in range(40):\n",
    "    look_up_table[i] = file_paths[i][18:-4]\n",
    "print(look_up_table)"
   ]
  },
  {
   "cell_type": "code",
   "execution_count": 12,
   "metadata": {},
   "outputs": [
    {
     "data": {
      "image/png": "[encoded data removed]",
      "text/plain": [
       "<Figure size 640x480 with 1 Axes>"
      ]
     },
     "metadata": {},
     "output_type": "display_data"
    }
   ],
   "source": [
    "import matplotlib.pyplot as plt\n",
    "\n",
    "# Specify the index of the sample you want to plot\n",
    "sample_index = 0\n",
    "\n",
    "# Access the sample from the data dictionary\n",
    "sample = data_dict[0][100, :-1].astype(float)  # Exclude the label from the sample\n",
    "\n",
    "# Reshape the sample to the image dimensions (assuming it's a 28x28 image)\n",
    "image = sample.reshape((28, 28))\n",
    "\n",
    "# Plot the image\n",
    "plt.imshow(image, cmap='gray')\n",
    "plt.axis('off')\n",
    "plt.show()\n",
    "\n"
   ]
  },
  {
   "cell_type": "code",
   "execution_count": 13,
   "metadata": {},
   "outputs": [
    {
     "name": "stdout",
     "output_type": "stream",
     "text": [
      "Train set size: 320000\n",
      "Test set size: 80000\n"
     ]
    }
   ],
   "source": [
    "train = []\n",
    "test = []\n",
    "\n",
    "for key, value in data_dict.items():\n",
    "    # print(value[0])\n",
    "    train.extend(value[:8000])  # First 8000 samples for training\n",
    "    test.extend(value[8000:10000])  # Remaining 2000 samples for testing\n",
    "print(\"Train set size:\", len(train))\n",
    "print(\"Test set size:\", len(test))"
   ]
  },
  {
   "cell_type": "code",
   "execution_count": 14,
   "metadata": {},
   "outputs": [],
   "source": [
    "num_classes = 40\n",
    "learning_rate = 0.01\n",
    "num_epochs = 20\n",
    "batch_size=50"
   ]
  },
  {
   "cell_type": "code",
   "execution_count": 15,
   "metadata": {},
   "outputs": [],
   "source": [
    "train_loader = torch.utils.data.DataLoader(train, batch_size=batch_size,shuffle=True)\n",
    "test_loader= torch.utils.data.DataLoader(test, batch_size=batch_size, shuffle=True)"
   ]
  },
  {
   "cell_type": "code",
   "execution_count": 4,
   "metadata": {},
   "outputs": [],
   "source": [
    "import torch.nn.functional as F\n",
    "\n",
    "class Net(nn.Module):\n",
    "    def __init__(self):\n",
    "        super(Net, self).__init__()\n",
    "        self.conv1 = nn.Conv2d(in_channels=1, out_channels=6, kernel_size=3,padding=1)\n",
    "        self.conv2 = nn.Conv2d(in_channels=6, out_channels=16, kernel_size=3,padding=1)\n",
    "        self.fc1 = nn.Linear(16 * 7 * 7, 120)  \n",
    "        self.fc2 = nn.Linear(120, 84)\n",
    "        self.fc3 = nn.Linear(84, 40)\n",
    "\n",
    "    def forward(self, x):\n",
    "        x = F.relu(self.conv1(x))\n",
    "        x = F.max_pool2d(x, 2)\n",
    "        x = F.relu(self.conv2(x))\n",
    "        x = F.max_pool2d(x, 2)\n",
    "        x = torch.flatten(x, 1)\n",
    "        x = F.relu(self.fc1(x))  \n",
    "        x = F.relu(self.fc2(x))\n",
    "        x = self.fc3(x)\n",
    "        return x\n",
    "\n",
    "net = Net()\n",
    "# net.to(device)"
   ]
  },
  {
   "cell_type": "code",
   "execution_count": 17,
   "metadata": {},
   "outputs": [],
   "source": [
    "import torch.optim as optim\n",
    "\n",
    "criterion = nn.CrossEntropyLoss()\n",
    "\n",
    "optimizer = optim.Adam(net.parameters(), lr=0.001)"
   ]
  },
  {
   "cell_type": "code",
   "execution_count": 18,
   "metadata": {},
   "outputs": [
    {
     "name": "stdout",
     "output_type": "stream",
     "text": [
      "Epoch [1/20], Loss: 0.835\n",
      "Epoch [2/20], Loss: 0.613\n",
      "Epoch [3/20], Loss: 0.562\n",
      "Epoch [4/20], Loss: 0.532\n",
      "Epoch [5/20], Loss: 0.512\n",
      "Epoch [6/20], Loss: 0.499\n",
      "Epoch [7/20], Loss: 0.490\n",
      "Epoch [8/20], Loss: 0.480\n",
      "Epoch [9/20], Loss: 0.473\n",
      "Epoch [10/20], Loss: 0.467\n",
      "Epoch [11/20], Loss: 0.461\n",
      "Epoch [12/20], Loss: 0.455\n",
      "Epoch [13/20], Loss: 0.452\n",
      "Epoch [14/20], Loss: 0.448\n",
      "Epoch [15/20], Loss: 0.443\n",
      "Epoch [16/20], Loss: 0.440\n",
      "Epoch [17/20], Loss: 0.435\n",
      "Epoch [18/20], Loss: 0.432\n",
      "Epoch [19/20], Loss: 0.429\n",
      "Epoch [20/20], Loss: 0.428\n",
      "Finished Training\n"
     ]
    }
   ],
   "source": [
    "outputs = torch.tensor([])\n",
    "for epoch in range(20):  # loop over the dataset multiple times\n",
    "    net.train()\n",
    "    running_loss = 0.0\n",
    "    for i, data in enumerate(train_loader, 0):\n",
    "        # get the inputs; data is a list of [inputs, labels]\n",
    "        inputs= data[:,:784].float()\n",
    "        inputs = inputs.view(-1, 1, 28, 28)  # Reshape the input tensor\n",
    "        # inputs=inputs.to(device)\n",
    "        labels=data[:,784]\n",
    "        # zero the parameter gradients\n",
    "        optimizer.zero_grad()\n",
    "\n",
    "        # forward + backward + optimize\n",
    "        outputs = net(inputs)\n",
    "        # print(outputs)\n",
    "        loss = criterion(outputs, labels.long())\n",
    "        loss.backward()\n",
    "        optimizer.step()\n",
    "\n",
    "        # print statistics\n",
    "        running_loss += loss.item()\n",
    "    # print statistics at the end of each epoch\n",
    "    print(f'Epoch [{epoch + 1}/20], Loss: {running_loss / len(train_loader):.3f}')\n",
    "\n",
    "print('Finished Training')"
   ]
  },
  {
   "cell_type": "code",
   "execution_count": 19,
   "metadata": {},
   "outputs": [],
   "source": [
    "PATH = './quick_draw_cnn.pth'\n",
    "torch.save(net.state_dict(), PATH)"
   ]
  },
  {
   "cell_type": "code",
   "execution_count": 20,
   "metadata": {},
   "outputs": [
    {
     "name": "stdout",
     "output_type": "stream",
     "text": [
      "Accuracy of the network on the 80000 test images: 85.4925 %\n"
     ]
    }
   ],
   "source": [
    "correct = 0\n",
    "total = 0\n",
    "# since we're not training, we don't need to calculate the gradients for our outputs\n",
    "with torch.no_grad():\n",
    "    net.eval()\n",
    "    for data in test_loader:\n",
    "        inputs= data[:,:784].float()\n",
    "        inputs = inputs.view(-1, 1, 28, 28)  # Reshape the input tensor\n",
    "        # inputs=inputs.to(device)\n",
    "        labels=data[:,784]\n",
    "        # calculate outputs by running images through the network\n",
    "        outputs = net(inputs)\n",
    "        # the class with the highest energy is what we choose as prediction\n",
    "        _, predicted = torch.max(outputs.data, 1)\n",
    "        total += labels.size(0)\n",
    "        correct += (predicted == labels).sum().item()\n",
    "\n",
    "print(f'Accuracy of the network on the {len(test)} test images: {100 * correct / total} %')\n"
   ]
  },
  {
   "cell_type": "code",
   "execution_count": 21,
   "metadata": {},
   "outputs": [
    {
     "name": "stdout",
     "output_type": "stream",
     "text": [
      "Accuracy for class: airplane is 88.5 %\n",
      "Accuracy for class: apple is 92.8 %\n",
      "Accuracy for class: axe   is 76.5 %\n",
      "Accuracy for class: basketball is 82.8 %\n",
      "Accuracy for class: bed   is 86.8 %\n",
      "Accuracy for class: bicycle is 92.6 %\n",
      "Accuracy for class: bowtie is 85.8 %\n",
      "Accuracy for class: bread is 72.7 %\n",
      "Accuracy for class: bucket is 88.0 %\n",
      "Accuracy for class: butterfly is 88.4 %\n",
      "Accuracy for class: cactus is 84.5 %\n",
      "Accuracy for class: cake  is 88.8 %\n",
      "Accuracy for class: candle is 86.0 %\n",
      "Accuracy for class: carrot is 85.4 %\n",
      "Accuracy for class: circle is 90.0 %\n",
      "Accuracy for class: clock is 92.3 %\n",
      "Accuracy for class: cloud is 83.5 %\n",
      "Accuracy for class: crayon is 76.7 %\n",
      "Accuracy for class: crown is 89.8 %\n",
      "Accuracy for class: cup   is 82.1 %\n",
      "Accuracy for class: diamond is 84.8 %\n",
      "Accuracy for class: donut is 91.8 %\n",
      "Accuracy for class: ear   is 81.7 %\n",
      "Accuracy for class: envelope is 95.0 %\n",
      "Accuracy for class: eye   is 89.4 %\n",
      "Accuracy for class: eyeglasses is 86.2 %\n",
      "Accuracy for class: finger is 77.6 %\n",
      "Accuracy for class: fish  is 88.0 %\n",
      "Accuracy for class: flower is 87.4 %\n",
      "Accuracy for class: fork  is 81.1 %\n",
      "Accuracy for class: hammer is 80.1 %\n",
      "Accuracy for class: hat   is 84.4 %\n",
      "Accuracy for class: headphones is 91.8 %\n",
      "Accuracy for class: hockey stick is 91.2 %\n",
      "Accuracy for class: ice cream is 87.8 %\n",
      "Accuracy for class: key   is 79.2 %\n",
      "Accuracy for class: leaf  is 79.7 %\n",
      "Accuracy for class: moon  is 67.7 %\n",
      "Accuracy for class: mountain is 90.0 %\n",
      "Accuracy for class: mushroom is 91.2 %\n"
     ]
    }
   ],
   "source": [
    "# prepare to count predictions for each class\n",
    "correct_pred = {classname: 0 for classname in look_up_table.values()}\n",
    "total_pred = {classname: 0 for classname in look_up_table.values()}\n",
    "\n",
    "# again no gradients needed\n",
    "with torch.no_grad():\n",
    "    for data in test_loader:\n",
    "        inputs= data[:,:784].float()\n",
    "        inputs = inputs.view(-1, 1, 28, 28)  # Reshape the input tensor\n",
    "        # inputs=inputs.to(device)\n",
    "        labels=data[:,784]    \n",
    "        outputs = net(inputs)   \n",
    "        _, predictions = torch.max(outputs, 1)\n",
    "        # collect the correct predictions for each class\n",
    "        for label, prediction in zip(labels, predictions):\n",
    "            # if label.item() == 0:\n",
    "                # print(\"predicted: \", prediction.item())\n",
    "            if label == prediction:\n",
    "                correct_pred[look_up_table[label.item()]] += 1\n",
    "            total_pred[look_up_table[label.item()]] += 1\n",
    "\n",
    "# print accuracy for each class\n",
    "for classname, correct_count in correct_pred.items():\n",
    "    total_count = total_pred[classname]\n",
    "    if total_count == 0:\n",
    "        accuracy = 0.0  # If no instances of this class in test dataset, set accuracy to 0\n",
    "    else:\n",
    "        accuracy = 100 * float(correct_count) / total_count\n",
    "    print(f'Accuracy for class: {classname:5s} is {accuracy:.1f} %')\n"
   ]
  },
  {
   "cell_type": "code",
   "execution_count": 5,
   "metadata": {},
   "outputs": [
    {
     "data": {
      "text/plain": [
       "<All keys matched successfully>"
      ]
     },
     "execution_count": 5,
     "metadata": {},
     "output_type": "execute_result"
    }
   ],
   "source": [
    "net = Net()\n",
    "net.load_state_dict(torch.load('./quick_draw_cnn.pth'))"
   ]
  },
  {
   "cell_type": "code",
   "execution_count": 12,
   "metadata": {},
   "outputs": [
    {
     "name": "stdout",
     "output_type": "stream",
     "text": [
      "Image saved at: /mnt/c/Users/rushi/Desktop/IIT_Bombay/Academics/Sem_4/ML/Skribble_Buddy/drawn_image.jpg\n"
     ]
    }
   ],
   "source": [
    "# Initialize PyGame\n",
    "pygame.init()\n",
    "\n",
    "# Set up the drawing window\n",
    "canvas_width, canvas_height = 600, 600\n",
    "canvas = pygame.display.set_mode((canvas_width, canvas_height))\n",
    "\n",
    "random_number = random.randint(0, 39)\n",
    "\n",
    "pygame.display.set_caption(f\"Draw {look_up_table[random_number]} Press ctrl+c to clear canvas & close to save\")\n",
    "\n",
    "# Colors\n",
    "BLACK = (0, 0, 0)\n",
    "WHITE = (255, 255, 255)\n",
    "\n",
    "# Function to clear the canvas\n",
    "def clear_canvas():\n",
    "    canvas.fill(WHITE)\n",
    "    pygame.display.flip()  # Update the display to show the cleared canvas\n",
    "\n",
    "# Game loop\n",
    "drawing = False\n",
    "last_pos = (0, 0)\n",
    "canvas.fill(WHITE)\n",
    "\n",
    "running = True\n",
    "while running:\n",
    "    for event in pygame.event.get():\n",
    "        if event.type == pygame.QUIT:\n",
    "            running = False\n",
    "\n",
    "        elif event.type == pygame.MOUSEBUTTONDOWN:\n",
    "            drawing = True\n",
    "            last_pos = event.pos\n",
    "\n",
    "        elif event.type == pygame.MOUSEBUTTONUP:\n",
    "            drawing = False\n",
    "\n",
    "        elif event.type == pygame.MOUSEMOTION:\n",
    "            if drawing:\n",
    "                mouse_pos = event.pos\n",
    "                pygame.draw.line(canvas, BLACK, last_pos, mouse_pos, 5)  # Draw line\n",
    "                last_pos = mouse_pos\n",
    "\n",
    "        elif event.type == pygame.KEYDOWN:\n",
    "            if event.key == pygame.K_c and pygame.key.get_mods() & pygame.KMOD_CTRL:\n",
    "                clear_canvas()\n",
    "\n",
    "    pygame.display.flip()\n",
    "\n",
    "# Save the canvas as an image\n",
    "image_path = \"drawn_image.jpg\"\n",
    "pygame.image.save(canvas, image_path)\n",
    "\n",
    "# Clean up\n",
    "pygame.quit()\n",
    "\n",
    "print(f\"Image saved at: {os.path.abspath(image_path)}\")\n"
   ]
  },
  {
   "cell_type": "code",
   "execution_count": 13,
   "metadata": {},
   "outputs": [
    {
     "data": {
      "image/png": "[encoded data removed]",
      "text/plain": [
       "<Figure size 640x480 with 1 Axes>"
      ]
     },
     "metadata": {},
     "output_type": "display_data"
    }
   ],
   "source": [
    "from PIL import Image\n",
    "from skimage.transform import resize\n",
    "import numpy as np\n",
    "\n",
    "# Load the image\n",
    "image = Image.open(image_path)\n",
    "#Convert to grayscale\n",
    "gray_image = image.convert('L')\n",
    "# print(np.min(gray_image))\n",
    "\n",
    "# Resize the image to 28x28 using skimage\n",
    "resized_image = resize(np.array(gray_image), (28, 28), anti_aliasing=True)\n",
    "\n",
    "# Convert the image to a numpy array and normalize pixel values\n",
    "\n",
    "bitmap = (np.ones(resized_image.shape)-np.array(resized_image))\n",
    "max_val = np.max(bitmap)\n",
    "if max_val != 0:\n",
    "    bitmap = bitmap*255/max_val\n",
    "\n",
    "import matplotlib.pyplot as plt\n",
    "\n",
    "# Plot the numpy array as an image\n",
    "\n",
    "plt.imshow(bitmap, cmap='gray')  # cmap='gray' for grayscale images\n",
    "\n",
    "plt.axis('off')  # Turn off axis\n",
    "plt.show()"
   ]
  },
  {
   "cell_type": "code",
   "execution_count": 14,
   "metadata": {},
   "outputs": [
    {
     "name": "stdout",
     "output_type": "stream",
     "text": [
      "Predicted:  headphones\n"
     ]
    }
   ],
   "source": [
    "bitmap_tensor = torch.Tensor(bitmap).float()  # Convert to float tensor\n",
    "bitmap_input = bitmap_tensor.view(-1, 1, 28, 28)   # Flatten to 1D tensor\n",
    "\n",
    "# Pass the tensor to the network\n",
    "outputs = net(bitmap_input)\n",
    "_, predicted = torch.max(outputs, 1)\n",
    "\n",
    "print('Predicted: ', look_up_table[predicted.item()])\n"
   ]
  }
 ],
 "metadata": {
  "kernelspec": {
   "display_name": "Python 3",
   "language": "python",
   "name": "python3"
  },
  "language_info": {
   "codemirror_mode": {
    "name": "ipython",
    "version": 3
   },
   "file_extension": ".py",
   "mimetype": "text/x-python",
   "name": "python",
   "nbconvert_exporter": "python",
   "pygments_lexer": "ipython3",
   "version": "3.10.12"
  }
 },
 "nbformat": 4,
 "nbformat_minor": 2
}
